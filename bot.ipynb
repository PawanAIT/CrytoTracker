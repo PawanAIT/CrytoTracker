{
 "metadata": {
  "language_info": {
   "codemirror_mode": {
    "name": "ipython",
    "version": 3
   },
   "file_extension": ".py",
   "mimetype": "text/x-python",
   "name": "python",
   "nbconvert_exporter": "python",
   "pygments_lexer": "ipython3",
   "version": "3.9.5"
  },
  "orig_nbformat": 2,
  "kernelspec": {
   "name": "python395jvsc74a57bd0075696558c13617cfb71f00ebbc50161f0d81ad68079e4c4dbb762cacebb08a2",
   "display_name": "Python 3.9.5 64-bit"
  },
  "metadata": {
   "interpreter": {
    "hash": "075696558c13617cfb71f00ebbc50161f0d81ad68079e4c4dbb762cacebb08a2"
   }
  }
 },
 "nbformat": 4,
 "nbformat_minor": 2,
 "cells": [
  {
   "cell_type": "code",
   "execution_count": 1,
   "metadata": {},
   "outputs": [],
   "source": [
    "import websocket\n",
    "import config\n",
    "import ccxt\n",
    "import json\n",
    "import pandas as pd\n",
    "from IPython.display import clear_output\n",
    "from tabulate import tabulate"
   ]
  },
  {
   "cell_type": "code",
   "execution_count": 2,
   "metadata": {},
   "outputs": [],
   "source": [
    "exchange =  ccxt.binance({\n",
    "    'apiKey' : config.API_KEY,\n",
    "    'secret' : config.API_SECRET\n",
    "})"
   ]
  },
  {
   "cell_type": "code",
   "execution_count": 3,
   "metadata": {},
   "outputs": [],
   "source": [
    "balanceSpot = exchange.fetch_balance({\n",
    "    'type' : 'spot'\n",
    "})\n",
    "balanceMargin = exchange.fetch_balance({\n",
    "    'type' : 'margin'\n",
    "})\n"
   ]
  },
  {
   "cell_type": "code",
   "execution_count": 4,
   "metadata": {
    "tags": []
   },
   "outputs": [],
   "source": [
    "symbols = set()\n",
    "for bal in balanceSpot['info']['balances']:\n",
    "    if float(bal['free']) > 0:\n",
    "        symbols.add(bal['asset'])"
   ]
  },
  {
   "cell_type": "code",
   "execution_count": 5,
   "metadata": {},
   "outputs": [],
   "source": [
    "for val in balanceMargin['info']['userAssets']:\n",
    "    if float(val['netAsset']) > 0:\n",
    "        symbols.add(val['asset'])"
   ]
  },
  {
   "cell_type": "code",
   "execution_count": 6,
   "metadata": {},
   "outputs": [
    {
     "output_type": "stream",
     "name": "stdout",
     "text": [
      "{'ADA', 'MATIC', 'LINK', 'BNB', 'LTC', 'EOS', 'XRP', 'NEO', 'BTC', 'TRX', 'UNI', 'BCH', 'CHZ', 'BAT', 'ETH', 'ETC', 'DOT', 'BTT'}\n"
     ]
    }
   ],
   "source": [
    "#symbols.remove('USDT')\n",
    "print(symbols)"
   ]
  },
  {
   "cell_type": "code",
   "execution_count": 7,
   "metadata": {},
   "outputs": [],
   "source": [
    "since = exchange.milliseconds () - 5 * 86400000  # -1 day from now\n",
    "orders = []\n",
    "for symbol in symbols:\n",
    "    SymbolinUSDT = f'{symbol}/USDT'\n",
    "    orders += exchange.fetch_closed_orders(SymbolinUSDT,since, 10 ,{'type' : 'margin'})"
   ]
  },
  {
   "cell_type": "code",
   "execution_count": 8,
   "metadata": {},
   "outputs": [],
   "source": [
    "buyOrders = {}\n",
    "for val in orders:\n",
    "    if val['info']['side'] == 'BUY':\n",
    "        symbol = val['info']['symbol'].lower()\n",
    "        quantity = float(val['info']['executedQty'])\n",
    "        totalMoneyinUSDT = float(val['info']['cummulativeQuoteQty'])\n",
    "        if symbol in buyOrders:\n",
    "            buyOrders[symbol] = {'totalamountinUSDT': buyOrders[symbol]['totalamountinUSDT'] + totalMoneyinUSDT, 'quantity' : buyOrders[symbol]['quantity'] + quantity}\n",
    "        else:\n",
    "            buyOrders[symbol] = {'totalamountinUSDT': totalMoneyinUSDT, 'quantity' : quantity}\n",
    "        #print(val)"
   ]
  },
  {
   "cell_type": "code",
   "execution_count": 9,
   "metadata": {},
   "outputs": [
    {
     "output_type": "stream",
     "name": "stdout",
     "text": [
      "{\n    \"adausdt\": {\n        \"totalamountinUSDT\": 404.985447,\n        \"quantity\": 230.87\n    },\n    \"maticusdt\": {\n        \"totalamountinUSDT\": 450.68318999999997,\n        \"quantity\": 418.0\n    },\n    \"linkusdt\": {\n        \"totalamountinUSDT\": 354.929573,\n        \"quantity\": 7.487\n    },\n    \"bnbusdt\": {\n        \"totalamountinUSDT\": 254.97185,\n        \"quantity\": 0.415\n    },\n    \"ltcusdt\": {\n        \"totalamountinUSDT\": 404.9947174,\n        \"quantity\": 1.12614\n    },\n    \"eosusdt\": {\n        \"totalamountinUSDT\": 329.911002,\n        \"quantity\": 30.51\n    },\n    \"xrpusdt\": {\n        \"totalamountinUSDT\": 254.995764,\n        \"quantity\": 169.23\n    },\n    \"neousdt\": {\n        \"totalamountinUSDT\": 254.886695,\n        \"quantity\": 2.215\n    },\n    \"trxusdt\": {\n        \"totalamountinUSDT\": 254.99973,\n        \"quantity\": 2073.0\n    },\n    \"uniusdt\": {\n        \"totalamountinUSDT\": 404.96657300000004,\n        \"quantity\": 10.439\n    },\n    \"chzusdt\": {\n        \"totalamountinUSDT\": 254.953669,\n        \"quantity\": 548.6\n    },\n    \"batusdt\": {\n        \"totalamountinUSDT\": 254.99474,\n        \"quantity\": 180.95\n    },\n    \"ethusdt\": {\n        \"totalamountinUSDT\": 604.9595956000001,\n        \"quantity\": 0.14873\n    }\n}\n"
     ]
    }
   ],
   "source": [
    "print(json.dumps(buyOrders, indent=4))"
   ]
  },
  {
   "cell_type": "code",
   "execution_count": 10,
   "metadata": {
    "tags": []
   },
   "outputs": [
    {
     "output_type": "stream",
     "name": "stdout",
     "text": [
      "adausdt 142.48 254.996456\nadausdt 88.39 149.988991\nmaticusdt 208.5 220.74729\nmaticusdt 209.5 229.9359\nlinkusdt 5.197 254.959623\nlinkusdt 2.29 99.96995\nbnbusdt 0.415 254.97185\nltcusdt 0.66281 254.9962632\nltcusdt 0.46333 149.9984542\neosusdt 30.51 329.911002\nxrpusdt 169.23 254.995764\nneousdt 2.215 254.886695\ntrxusdt 2073.0 254.99973\nuniusdt 6.567 254.976909\nuniusdt 3.872 149.989664\nchzusdt 548.6 254.953669\nbatusdt 180.95 254.99474\nethusdt 0.0839 349.975426\nethusdt 0.06483 254.9841696\n"
     ]
    }
   ],
   "source": [
    "for val in orders:\n",
    "    if val['info']['side'] == 'BUY':\n",
    "        symbol = val['info']['symbol'].lower()\n",
    "        quantity = float(val['info']['executedQty'])\n",
    "        totalMoneyinUSDT = float(val['info']['cummulativeQuoteQty'])\n",
    "        print(symbol, quantity, totalMoneyinUSDT)\n",
    "        # if symbol in buyOrders:\n",
    "        #     buyOrders[symbol] = {'totalamountinUSDT': buyOrders[symbol]['totalamountinUSDT'] + totalMoneyinUSDT, 'quantity' : buyOrders[symbol]['quantity'] + quantity}\n",
    "        # else:\n",
    "        #     buyOrders[symbol] = {'totalamountinUSDT': totalMoneyinUSDT, 'quantity' : quantity}"
   ]
  },
  {
   "cell_type": "code",
   "execution_count": 11,
   "metadata": {},
   "outputs": [],
   "source": [
    "with open('buyOrders.json', 'r') as openfile:\n",
    "    buyOrders = json.load(openfile)\n",
    "symbolList = buyOrders.keys()\n",
    "symbolurl = \"\"\n",
    "for x in symbolList:\n",
    "    symbolurl += f'{x.lower()}@kline_1m/'\n",
    "symbolurl = symbolurl[:-1]\n",
    "#print(symbolurl)\n",
    "socket = f\"wss://stream.binance.com:9443/stream?streams={symbolurl}\"\n",
    "#socket = f\"wss://stream.binance.com:9443/stream?streams=adausdt@kline_1m\"\n",
    "#print(socket)\n",
    "#print(buyOrders)"
   ]
  },
  {
   "cell_type": "code",
   "execution_count": 16,
   "metadata": {},
   "outputs": [],
   "source": [
    "import websocket\n",
    "data = {}\n",
    "usdtToINR = 78.25\n",
    "def on_message(ws, message):\n",
    "    obj = json.loads(message)\n",
    "    symbol, cur_price = obj['data']['s'].lower(), float(obj['data']['k']['c'])\n",
    "    buy_price = float(buyOrders[symbol]['totalamountinUSDT'])\n",
    "    new_price = cur_price * float(buyOrders[symbol]['quantity'])\n",
    "    perChange = (new_price - buy_price) * 100 / buy_price\n",
    "\n",
    "    new_priceINR = new_price * usdtToINR\n",
    "    new_buypriceINR =  buy_price * usdtToINR\n",
    "    new_curpriceINR = cur_price * usdtToINR\n",
    "    data[symbol] = {\n",
    "            'PercentageChange' : perChange,\n",
    "            'Current_Wallet' : new_priceINR,\n",
    "            'Buy_price' : new_buypriceINR, \n",
    "            'CurrentPrice' : new_curpriceINR, \n",
    "            'Profit/Loss' : new_buypriceINR - new_priceINR\n",
    "        }\n",
    "    clear_output(wait=True)\n",
    "    df = pd.DataFrame(data)\n",
    "    df = df.T\n",
    "    df = df.sort_values(by='PercentageChange')\n",
    "    print(tabulate(df, headers = 'keys', tablefmt = 'psql'))\n",
    "    print(\"{0} / {1}\".format(int(df['Current_Wallet'].sum(axis=0)), int(df['Buy_price'].sum(axis=0))))\n",
    "\n",
    "def on_close(ws):\n",
    "    print(\"### closed ###\")\n",
    "\n",
    "def on_error(ws, error):\n",
    "    print(error)\n",
    "\n",
    "ws = websocket.WebSocketApp(socket ,on_message = on_message, on_close = on_close, on_error=on_error)\n"
   ]
  },
  {
   "cell_type": "code",
   "execution_count": 17,
   "metadata": {},
   "outputs": [
    {
     "output_type": "error",
     "ename": "AttributeError",
     "evalue": "'WebSocket' object has no attribute 'run_forever'",
     "traceback": [
      "\u001b[1;31m---------------------------------------------------------------------------\u001b[0m",
      "\u001b[1;31mAttributeError\u001b[0m                            Traceback (most recent call last)",
      "\u001b[1;32m<ipython-input-17-5899039c2a7b>\u001b[0m in \u001b[0;36m<module>\u001b[1;34m\u001b[0m\n\u001b[1;32m----> 1\u001b[1;33m \u001b[0mws\u001b[0m\u001b[1;33m.\u001b[0m\u001b[0mrun_forever\u001b[0m\u001b[1;33m(\u001b[0m\u001b[1;33m)\u001b[0m\u001b[1;33m\u001b[0m\u001b[1;33m\u001b[0m\u001b[0m\n\u001b[0m",
      "\u001b[1;31mAttributeError\u001b[0m: 'WebSocket' object has no attribute 'run_forever'"
     ]
    }
   ],
   "source": [
    "ws.run_forever()"
   ]
  },
  {
   "cell_type": "code",
   "execution_count": null,
   "metadata": {},
   "outputs": [],
   "source": [
    "import json\n",
    "  \n",
    "with open(\"buyOrders.json\", \"w\") as outfile:\n",
    "    json.dump(buyOrders, outfile)"
   ]
  },
  {
   "cell_type": "code",
   "execution_count": null,
   "metadata": {},
   "outputs": [],
   "source": [
    "df = pd.DataFrame(data)\n",
    "df = df.T\n",
    "df = df.sort_values(by='PercentageChange')\n",
    "print(tabulate(df, headers = 'keys', tablefmt = 'psql'))\n",
    "print(\"{0} / {1}\".format(int(df['Current_Wallet'].sum(axis=0)), int(df['Buy_price'].sum(axis=0))))"
   ]
  },
  {
   "cell_type": "code",
   "execution_count": 44,
   "metadata": {},
   "outputs": [],
   "source": [
    "import websocket as ws"
   ]
  },
  {
   "cell_type": "code",
   "execution_count": 47,
   "metadata": {},
   "outputs": [
    {
     "output_type": "error",
     "ename": "AttributeError",
     "evalue": "module 'websocket' has no attribute 'WebSocketApp'",
     "traceback": [
      "\u001b[1;31m---------------------------------------------------------------------------\u001b[0m",
      "\u001b[1;31mAttributeError\u001b[0m                            Traceback (most recent call last)",
      "\u001b[1;32m<ipython-input-47-6644926e1b6a>\u001b[0m in \u001b[0;36m<module>\u001b[1;34m\u001b[0m\n\u001b[1;32m----> 1\u001b[1;33m \u001b[0mws\u001b[0m\u001b[1;33m.\u001b[0m\u001b[0mWebSocketApp\u001b[0m\u001b[1;33m\u001b[0m\u001b[1;33m\u001b[0m\u001b[0m\n\u001b[0m",
      "\u001b[1;31mAttributeError\u001b[0m: module 'websocket' has no attribute 'WebSocketApp'"
     ]
    }
   ],
   "source": [
    "ws.WebSocketApp"
   ]
  },
  {
   "cell_type": "code",
   "execution_count": null,
   "metadata": {},
   "outputs": [],
   "source": []
  }
 ]
}
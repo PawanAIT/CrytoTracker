{
 "metadata": {
  "language_info": {
   "codemirror_mode": {
    "name": "ipython",
    "version": 3
   },
   "file_extension": ".py",
   "mimetype": "text/x-python",
   "name": "python",
   "nbconvert_exporter": "python",
   "pygments_lexer": "ipython3",
   "version": "3.9.5"
  },
  "orig_nbformat": 2,
  "kernelspec": {
   "name": "python395jvsc74a57bd0538190ec1f5e4e1cbc4f208c2c6c5b09dbc952aeac749a8e45ac5e8cba0485a9",
   "display_name": "Python 3.9.5 64-bit (windows store)"
  },
  "metadata": {
   "interpreter": {
    "hash": "538190ec1f5e4e1cbc4f208c2c6c5b09dbc952aeac749a8e45ac5e8cba0485a9"
   }
  }
 },
 "nbformat": 4,
 "nbformat_minor": 2,
 "cells": [
  {
   "cell_type": "code",
   "execution_count": null,
   "metadata": {},
   "outputs": [],
   "source": [
    "import websocket\n",
    "import config\n",
    "import ccxt\n",
    "import json\n",
    "import pandas as pd"
   ]
  },
  {
   "cell_type": "code",
   "execution_count": null,
   "metadata": {},
   "outputs": [],
   "source": [
    "exchange =  ccxt.binance({\n",
    "    'apiKey' : config.API_KEY,\n",
    "    'secret' : config.API_SECRET\n",
    "})"
   ]
  },
  {
   "cell_type": "code",
   "execution_count": null,
   "metadata": {},
   "outputs": [],
   "source": [
    "balanceSpot = exchange.fetch_balance({\n",
    "    'type' : 'spot'\n",
    "})\n",
    "balanceMargin = exchange.fetch_balance({\n",
    "    'type' : 'margin'\n",
    "})\n"
   ]
  },
  {
   "cell_type": "code",
   "execution_count": null,
   "metadata": {
    "tags": []
   },
   "outputs": [],
   "source": [
    "symbols = set()\n",
    "for bal in balanceSpot['info']['balances']:\n",
    "    if float(bal['free']) > 0:\n",
    "        symbols.add(bal['asset'])"
   ]
  },
  {
   "cell_type": "code",
   "execution_count": null,
   "metadata": {},
   "outputs": [],
   "source": [
    "for val in balanceMargin['info']['userAssets']:\n",
    "    if float(val['netAsset']) > 0:\n",
    "        symbols.add(val['asset'])"
   ]
  },
  {
   "cell_type": "code",
   "execution_count": null,
   "metadata": {},
   "outputs": [],
   "source": [
    "symbols.remove('USDT')\n",
    "print(symbols)"
   ]
  },
  {
   "cell_type": "code",
   "execution_count": null,
   "metadata": {},
   "outputs": [],
   "source": [
    "since = exchange.milliseconds () - 30 * 86400000  # -1 day from now\n",
    "orders = []\n",
    "for symbol in symbols:\n",
    "    SymbolinUSDT = f'{symbol}/USDT'\n",
    "    orders += exchange.fetch_closed_orders(SymbolinUSDT,since, 10 ,{'type' : 'margin'})"
   ]
  },
  {
   "cell_type": "code",
   "execution_count": 144,
   "metadata": {},
   "outputs": [
    {
     "output_type": "stream",
     "name": "stdout",
     "text": [
      "{'bttusdt': {'totalamountinUSDT': '46.143996', 'quantity': '5053'}, 'linkusdt': {'totalamountinUSDT': '199.96811', 'quantity': '5.015'}, 'eosusdt': {'totalamountinUSDT': '199.99596', 'quantity': '30.83'}, 'dotusdt': {'totalamountinUSDT': '450.95892', 'quantity': '12.45'}, 'adausdt': {'totalamountinUSDT': '209.95146', 'quantity': '154.9'}, 'ltcusdt': {'totalamountinUSDT': '629.4634875', 'quantity': '2.29941'}, 'neousdt': {'totalamountinUSDT': '199.912676', 'quantity': '2.066'}}\n"
     ]
    }
   ],
   "source": [
    "buyOrders = {}\n",
    "for val in orders:\n",
    "    if val['info']['side'] == 'BUY':\n",
    "        symbol = val['info']['symbol'].lower()\n",
    "        quantity = val['info']['executedQty']\n",
    "        totalMoneyinUSDT = val['info']['cummulativeQuoteQty']\n",
    "        buyOrders[symbol] = {'totalamountinUSDT': totalMoneyinUSDT, 'quantity' : quantity}\n",
    "        #print(val)\n",
    "print(buyOrders)"
   ]
  },
  {
   "cell_type": "code",
   "execution_count": 145,
   "metadata": {},
   "outputs": [
    {
     "output_type": "stream",
     "name": "stdout",
     "text": [
      "{'bttusdt': {'totalamountinUSDT': '383.53', 'quantity': '49152'}, 'xrpusdt': {'totalamountinUSDT': '511.18', 'quantity': '312.6'}, 'maticusdt': {'totalamountinUSDT': '255.59', 'quantity': '334'}, 'vetusdt': {'totalamountinUSDT': '383.53', 'quantity': '1610'}, 'adausdt': {'totalamountinUSDT': '255.59', 'quantity': '160.6'}, 'etcusdt': {'totalamountinUSDT': '256', 'quantity': '1.97'}, 'wrxusdt': {'totalamountinUSDT': '180.19', 'quantity': '74.2'}, 'dotusdt': {'totalamountinUSDT': '383.38', 'quantity': '9.11'}, 'dogeusdt': {'totalamountinUSDT': '255.59', 'quantity': '514'}}\n"
     ]
    }
   ],
   "source": [
    "with open('buyOrders.json', 'r') as openfile:\n",
    "    buyOrders = json.load(openfile)\n",
    "symbolList = buyOrders.keys()\n",
    "symbolurl = \"\"\n",
    "for x in symbolList:\n",
    "    symbolurl += f'{x.lower()}@kline_1m/'\n",
    "symbolurl = symbolurl[:-1]\n",
    "#print(symbolurl)\n",
    "socket = f\"wss://stream.binance.com:9443/stream?streams={symbolurl}\"\n",
    "#socket = f\"wss://stream.binance.com:9443/stream?streams=adausdt@kline_1m\"\n",
    "#print(socket)\n",
    "print(buyOrders)"
   ]
  },
  {
   "cell_type": "code",
   "execution_count": 148,
   "metadata": {},
   "outputs": [],
   "source": [
    "from IPython.display import clear_output\n",
    "from tabulate import tabulate\n",
    "data = {}\n",
    "usdtToINR = 78.25\n",
    "def on_message(ws, message):\n",
    "    obj = json.loads(message)\n",
    "    symbol, cur_price = obj['data']['s'].lower(), float(obj['data']['k']['c'])\n",
    "    buy_price = float(buyOrders[symbol]['totalamountinUSDT'])\n",
    "    new_price = cur_price * float(buyOrders[symbol]['quantity'])\n",
    "    perChange = (new_price - buy_price) * 100 / buy_price\n",
    "\n",
    "    new_priceINR = new_price * usdtToINR\n",
    "    new_buypriceINR =  buy_price * usdtToINR\n",
    "    new_curpriceINR = cur_price * usdtToINR\n",
    "    data[symbol] = {\n",
    "            'PercentageChange' : perChange,\n",
    "            'Current_Wallet' : new_priceINR,\n",
    "            'Buy_price' : new_buypriceINR, \n",
    "            'CurrentPrice' : new_curpriceINR, \n",
    "            'Profit/Loss' : new_buypriceINR - new_priceINR\n",
    "        }\n",
    "    clear_output(wait=True)\n",
    "    df = pd.DataFrame(data)\n",
    "    df = df.T\n",
    "    df = df.sort_values(by='PercentageChange')\n",
    "    print(tabulate(df, headers = 'keys', tablefmt = 'psql'))\n",
    "    print(\"{0} / {1}\".format(int(df['Current_Wallet'].sum(axis=0)), int(df['Buy_price'].sum(axis=0))))\n",
    "\n",
    "def on_close(ws):\n",
    "    print(\"### closed ###\")\n",
    "\n",
    "def on_error(ws, error):\n",
    "    print(error)\n",
    "\n",
    "ws = websocket.WebSocketApp(socket ,on_message = on_message, on_close = on_close, on_error=on_error)"
   ]
  },
  {
   "cell_type": "code",
   "execution_count": 149,
   "metadata": {},
   "outputs": [
    {
     "output_type": "stream",
     "name": "stdout",
     "text": [
      "+-----------+--------------------+------------------+-------------+----------------+\n|           |   PercentageChange |   Current_Wallet |   Buy_price |   CurrentPrice |\n|-----------+--------------------+------------------+-------------+----------------|\n| etcusdt   |          -8.60123  |          18309   |     20032   |     9293.91    |\n| xrpusdt   |          -5.99618  |          37601.4 |     39999.8 |      120.286   |\n| dotusdt   |          -5.31664  |          28404.5 |     29999.5 |     3117.95    |\n| bttusdt   |          -5.22288  |          28443.8 |     30011.2 |        0.57869 |\n| vetusdt   |          -2.09783  |          29381.6 |     30011.2 |       18.2495  |\n| wrxusdt   |          -0.792142 |          13988.2 |     14099.9 |      188.52    |\n| dogeusdt  |          12.0648   |          22412.9 |     19999.9 |       43.6048  |\n| adausdt   |          13.4863   |          22697.2 |     19999.9 |      141.327   |\n| maticusdt |          33.732    |          26746.3 |     19999.9 |       80.0787  |\n+-----------+--------------------+------------------+-------------+----------------+\n227984 / 224153\n\n### closed ###\n"
     ]
    },
    {
     "output_type": "execute_result",
     "data": {
      "text/plain": [
       "False"
      ]
     },
     "metadata": {},
     "execution_count": 149
    }
   ],
   "source": [
    "ws.run_forever()"
   ]
  },
  {
   "cell_type": "code",
   "execution_count": null,
   "metadata": {},
   "outputs": [],
   "source": [
    "import json\n",
    "  \n",
    "with open(\"buyOrders.json\", \"w\") as outfile:\n",
    "    json.dump(buyOrders, outfile)"
   ]
  },
  {
   "cell_type": "code",
   "execution_count": 142,
   "metadata": {},
   "outputs": [
    {
     "output_type": "stream",
     "name": "stdout",
     "text": [
      "+-----------+--------------------+------------------+-------------+----------------+\n|           |   PercentageChange |   Current_Wallet |   Buy_price |   CurrentPrice |\n|-----------+--------------------+------------------+-------------+----------------|\n| etcusdt   |           -6.81438 |          18666.9 |     20032   |    9475.61     |\n| xrpusdt   |           -5.88611 |          37645.4 |     39999.8 |     120.427    |\n| dotusdt   |           -5.1907  |          28442.3 |     29999.5 |    3122.1      |\n| bttusdt   |           -3.41843 |          28985.3 |     30011.2 |       0.589708 |\n| vetusdt   |           -1.81237 |          29467.3 |     30011.2 |      18.3027   |\n| wrxusdt   |           -1.0351  |          13953.9 |     14099.9 |     188.058    |\n| dogeusdt  |           12.3303  |          22466   |     19999.9 |      43.7081   |\n| adausdt   |           13.1973  |          22639.4 |     19999.9 |     140.967    |\n| maticusdt |           34.9591  |          26991.7 |     19999.9 |      80.8135   |\n+-----------+--------------------+------------------+-------------+----------------+\n229258 / 224153\n"
     ]
    }
   ],
   "source": [
    "df = pd.DataFrame(data)\n",
    "df = df.T\n",
    "df = df.sort_values(by='PercentageChange')\n",
    "print(tabulate(df, headers = 'keys', tablefmt = 'psql'))\n",
    "print(\"{0} / {1}\".format(int(df['Current_Wallet'].sum(axis=0)), int(df['Buy_price'].sum(axis=0))))"
   ]
  },
  {
   "cell_type": "code",
   "execution_count": null,
   "metadata": {},
   "outputs": [],
   "source": []
  }
 ]
}
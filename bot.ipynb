{
 "metadata": {
  "language_info": {
   "codemirror_mode": {
    "name": "ipython",
    "version": 3
   },
   "file_extension": ".py",
   "mimetype": "text/x-python",
   "name": "python",
   "nbconvert_exporter": "python",
   "pygments_lexer": "ipython3",
   "version": "3.9.5"
  },
  "orig_nbformat": 2,
  "kernelspec": {
   "name": "python395jvsc74a57bd0538190ec1f5e4e1cbc4f208c2c6c5b09dbc952aeac749a8e45ac5e8cba0485a9",
   "display_name": "Python 3.9.5 64-bit (windows store)"
  },
  "metadata": {
   "interpreter": {
    "hash": "538190ec1f5e4e1cbc4f208c2c6c5b09dbc952aeac749a8e45ac5e8cba0485a9"
   }
  }
 },
 "nbformat": 4,
 "nbformat_minor": 2,
 "cells": [
  {
   "cell_type": "code",
   "execution_count": 20,
   "metadata": {},
   "outputs": [],
   "source": [
    "import websocket\n",
    "import config\n",
    "import ccxt\n",
    "import json\n",
    "import pandas as pd"
   ]
  },
  {
   "cell_type": "code",
   "execution_count": 3,
   "metadata": {},
   "outputs": [],
   "source": [
    "exchange =  ccxt.binance({\n",
    "    'apiKey' : config.API_KEY,\n",
    "    'secret' : config.API_SECRET\n",
    "})"
   ]
  },
  {
   "cell_type": "code",
   "execution_count": 4,
   "metadata": {},
   "outputs": [],
   "source": [
    "balanceSpot = exchange.fetch_balance({\n",
    "    'type' : 'spot'\n",
    "})\n",
    "balanceMargin = exchange.fetch_balance({\n",
    "    'type' : 'margin'\n",
    "})\n"
   ]
  },
  {
   "cell_type": "code",
   "execution_count": 5,
   "metadata": {
    "tags": []
   },
   "outputs": [],
   "source": [
    "symbols = set()\n",
    "for bal in balanceSpot['info']['balances']:\n",
    "    if float(bal['free']) > 0:\n",
    "        symbols.add(bal['asset'])"
   ]
  },
  {
   "cell_type": "code",
   "execution_count": 6,
   "metadata": {},
   "outputs": [],
   "source": [
    "for val in balanceMargin['info']['userAssets']:\n",
    "    if float(val['netAsset']) > 0:\n",
    "        symbols.add(val['asset'])"
   ]
  },
  {
   "cell_type": "code",
   "execution_count": 7,
   "metadata": {},
   "outputs": [
    {
     "output_type": "stream",
     "name": "stdout",
     "text": [
      "{'BTT', 'XRP', 'ETH', 'LINK', 'EOS', 'BCH', 'BTC', 'DOT', 'TRX', 'ADA', 'BNB', 'LTC', 'NEO', 'ETC'}\n"
     ]
    }
   ],
   "source": [
    "symbols.remove('USDT')\n",
    "print(symbols)"
   ]
  },
  {
   "cell_type": "code",
   "execution_count": 11,
   "metadata": {},
   "outputs": [],
   "source": [
    "since = exchange.milliseconds () - 30 * 86400000  # -1 day from now\n",
    "orders = []\n",
    "for symbol in symbols:\n",
    "    SymbolinUSDT = f'{symbol}/USDT'\n",
    "    orders += exchange.fetch_closed_orders(SymbolinUSDT,since, 10 ,{'type' : 'margin'})"
   ]
  },
  {
   "cell_type": "code",
   "execution_count": 12,
   "metadata": {},
   "outputs": [
    {
     "output_type": "stream",
     "name": "stdout",
     "text": [
      "{'bttusdt': {'totalamountinUSDT': '46.143996', 'quantity': '5053'}, 'linkusdt': {'totalamountinUSDT': '199.96811', 'quantity': '5.015'}, 'eosusdt': {'totalamountinUSDT': '199.99596', 'quantity': '30.83'}, 'dotusdt': {'totalamountinUSDT': '450.95892', 'quantity': '12.45'}, 'adausdt': {'totalamountinUSDT': '209.95146', 'quantity': '154.9'}, 'ltcusdt': {'totalamountinUSDT': '629.4634875', 'quantity': '2.29941'}, 'neousdt': {'totalamountinUSDT': '199.912676', 'quantity': '2.066'}}\n"
     ]
    }
   ],
   "source": [
    "buyOrders = {}\n",
    "for val in orders:\n",
    "    if val['info']['side'] == 'BUY':\n",
    "        symbol = val['info']['symbol'].lower()\n",
    "        quantity = val['info']['executedQty']\n",
    "        totalMoneyinUSDT = val['info']['cummulativeQuoteQty']\n",
    "        buyOrders[symbol] = {'totalamountinUSDT': totalMoneyinUSDT, 'quantity' : quantity}\n",
    "        #print(val)\n",
    "print(buyOrders)"
   ]
  },
  {
   "cell_type": "code",
   "execution_count": 13,
   "metadata": {},
   "outputs": [
    {
     "output_type": "stream",
     "name": "stdout",
     "text": [
      "bttusdt@kline_1m/linkusdt@kline_1m/eosusdt@kline_1m/dotusdt@kline_1m/adausdt@kline_1m/ltcusdt@kline_1m/neousdt@kline_1m\n"
     ]
    }
   ],
   "source": [
    "symbolList = buyOrders.keys()\n",
    "symbolurl = \"\"\n",
    "for x in symbolList:\n",
    "    symbolurl += f'{x.lower()}@kline_1m/'\n",
    "symbolurl = symbolurl[:-1]\n",
    "print(symbolurl)"
   ]
  },
  {
   "cell_type": "code",
   "execution_count": 54,
   "metadata": {},
   "outputs": [
    {
     "output_type": "stream",
     "name": "stdout",
     "text": [
      "{'linkusdt': {'PercentageChange': 19.584190199127242}, 'ltcusdt': {'PercentageChange': 25.263926940639273}, 'bttusdt': {'PercentageChange': -20.424879544459046}, 'eosusdt': {'PercentageChange': 56.68430802302206}, 'adausdt': {'PercentageChange': 22.98214549210565}, 'dotusdt': {'PercentageChange': 8.335910064712763}, 'neousdt': {'PercentageChange': 21.263099894676}}\n"
     ]
    }
   ],
   "source": [
    "print(data)\n"
   ]
  },
  {
   "cell_type": "code",
   "execution_count": 55,
   "metadata": {},
   "outputs": [
    {
     "output_type": "stream",
     "name": "stdout",
     "text": [
      "wss://stream.binance.com:9443/stream?streams=bttusdt@kline_1m/linkusdt@kline_1m/eosusdt@kline_1m/dotusdt@kline_1m/adausdt@kline_1m/ltcusdt@kline_1m/neousdt@kline_1m\n"
     ]
    }
   ],
   "source": [
    "socket = f\"wss://stream.binance.com:9443/stream?streams={symbolurl}\"\n",
    "#socket = f\"wss://stream.binance.com:9443/stream?streams=adausdt@kline_1m\"\n",
    "print(socket)"
   ]
  },
  {
   "cell_type": "code",
   "execution_count": 38,
   "metadata": {},
   "outputs": [],
   "source": [
    "from IPython.display import clear_output\n",
    "from tabulate import tabulate\n",
    "data = {}\n",
    "def on_message(ws, message):\n",
    "    obj = json.loads(message)\n",
    "    #print(obj)\n",
    "    # Pretty Print JSON\n",
    "    #json_formatted_str = json.dumps(obj['data'], indent=4)\n",
    "    symbol, cur_price = obj['data']['s'].lower(), float(obj['data']['k']['c'])\n",
    "    buy_price = float(buyOrders[symbol]['totalamountinUSDT'])\n",
    "    new_price = cur_price * float(buyOrders[symbol]['quantity'])\n",
    "    \n",
    "    perChange = (new_price - buy_price) * 100 / buy_price\n",
    "    #data[symbol] = {'cur_price' : cur_price, 'Bought_price' : buy_price, 'PercentageChange' : perChange}\n",
    "    data[symbol] = {'PercentageChange' : perChange}\n",
    "    clear_output(wait=True)\n",
    "    df = pd.DataFrame(data)\n",
    "    print(tabulate(df, headers = 'keys', tablefmt = 'psql'))\n",
    "\n",
    "def on_close(ws):\n",
    "    print(\"### closed ###\")\n",
    "\n",
    "def on_error(ws, error):\n",
    "    print(error)\n",
    "\n",
    "ws = websocket.WebSocketApp(socket ,on_message = on_message, on_close = on_close, on_error=on_error)"
   ]
  },
  {
   "cell_type": "code",
   "execution_count": 41,
   "metadata": {},
   "outputs": [
    {
     "output_type": "stream",
     "name": "stdout",
     "text": [
      "+------------------+------------+-----------+-----------+-----------+-----------+-----------+-----------+\n",
      "|                  |   linkusdt |   ltcusdt |   bttusdt |   eosusdt |   adausdt |   dotusdt |   neousdt |\n",
      "|------------------+------------+-----------+-----------+-----------+-----------+-----------+-----------|\n",
      "| PercentageChange |    19.5842 |   25.2639 |  -20.4249 |   56.6843 |   22.9821 |   8.33591 |   21.2631 |\n",
      "+------------------+------------+-----------+-----------+-----------+-----------+-----------+-----------+\n",
      "\n",
      "### closed ###\n"
     ]
    },
    {
     "output_type": "execute_result",
     "data": {
      "text/plain": [
       "False"
      ]
     },
     "metadata": {},
     "execution_count": 41
    }
   ],
   "source": [
    "ws.run_forever()"
   ]
  },
  {
   "cell_type": "code",
   "execution_count": 53,
   "metadata": {},
   "outputs": [],
   "source": [
    "import json\n",
    "  \n",
    "with open(\"buyOrders.json\", \"w\") as outfile:\n",
    "    json.dump(buyOrders, outfile)"
   ]
  }
 ]
}